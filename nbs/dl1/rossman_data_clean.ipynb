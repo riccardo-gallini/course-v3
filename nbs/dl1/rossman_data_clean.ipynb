{
  "nbformat": 4,
  "nbformat_minor": 0,
  "metadata": {
    "kernelspec": {
      "display_name": "Python 3",
      "language": "python",
      "name": "python3"
    },
    "colab": {
      "name": "rossman_data_clean.ipynb",
      "provenance": []
    }
  },
  "cells": [
    {
      "cell_type": "code",
      "metadata": {
        "id": "3ad7QmOZllJr",
        "colab_type": "code",
        "outputId": "81e90503-684b-46e2-b49d-49d37efd1503",
        "colab": {
          "base_uri": "https://localhost:8080/",
          "height": 105
        }
      },
      "source": [
        "#prepare fast.ai\n",
        "!curl https://course.fast.ai/setup/colab | bash\n",
        "\n",
        "#mount google drive\n",
        "from google.colab import drive\n",
        "drive.mount('/content/gdrive')\n",
        "#  4/uAEX5fiE4XmV7J7-0InpsjpHILe-NhsBHSDsPXflvXGdEh4ChdR8uOc"
      ],
      "execution_count": 1,
      "outputs": [
        {
          "output_type": "stream",
          "text": [
            "  % Total    % Received % Xferd  Average Speed   Time    Time     Time  Current\n",
            "                                 Dload  Upload   Total   Spent    Left  Speed\n",
            "100   322  100   322    0     0    834      0 --:--:-- --:--:-- --:--:--   832\n",
            "Updating fastai...\n",
            "Done.\n"
          ],
          "name": "stdout"
        }
      ]
    },
    {
      "cell_type": "code",
      "metadata": {
        "id": "kWS9WMx2jn_E",
        "colab_type": "code",
        "colab": {
          "base_uri": "https://localhost:8080/",
          "height": 158
        },
        "outputId": "47fbec65-f62d-46ce-c084-579269a9a406"
      },
      "source": [
        "#download and unzip data\n",
        "\n",
        "#!wget http://files.fast.ai/part2/lesson14/rossmann.tgz -P \"/content/gdrive/My Drive/DATA/rossmann\"\n",
        "#!tar -xvf /content/gdrive/My\\ Drive/DATA/rossmann.tgz -C /content/gdrive/My\\ Drive/DATA/rossmann"
      ],
      "execution_count": 26,
      "outputs": [
        {
          "output_type": "stream",
          "text": [
            "googletrend.csv\n",
            "sample_submission.csv\n",
            "state_names.csv\n",
            "store.csv\n",
            "store_states.csv\n",
            "test.csv\n",
            "train.csv\n",
            "weather.csv\n"
          ],
          "name": "stdout"
        }
      ]
    },
    {
      "cell_type": "code",
      "metadata": {
        "id": "dWgfMvusnqrt",
        "colab_type": "code",
        "colab": {
          "base_uri": "https://localhost:8080/",
          "height": 70
        },
        "outputId": "3d0903e7-0ac0-40d8-f30a-50f2bd402bc1"
      },
      "source": [
        "!ls /content/gdrive/My\\ Drive/DATA/rossmann"
      ],
      "execution_count": 29,
      "outputs": [
        {
          "output_type": "stream",
          "text": [
            "googletrend.csv        state_names.csv\t test.csv\n",
            "rossmann.tgz\t       store.csv\t train.csv\n",
            "sample_submission.csv  store_states.csv  weather.csv\n"
          ],
          "name": "stdout"
        }
      ]
    },
    {
      "cell_type": "code",
      "metadata": {
        "id": "94FORFIhiD7P",
        "colab_type": "code",
        "colab": {}
      },
      "source": [
        "from fastai.basics import *"
      ],
      "execution_count": 0,
      "outputs": []
    },
    {
      "cell_type": "markdown",
      "metadata": {
        "id": "SV_v84ISiD7T",
        "colab_type": "text"
      },
      "source": [
        "# Rossmann"
      ]
    },
    {
      "cell_type": "markdown",
      "metadata": {
        "id": "7EjX_0qRiD7U",
        "colab_type": "text"
      },
      "source": [
        "## Data preparation / Feature engineering"
      ]
    },
    {
      "cell_type": "markdown",
      "metadata": {
        "id": "v7dtwdG_iD7V",
        "colab_type": "text"
      },
      "source": [
        "In addition to the provided data, we will be using external datasets put together by participants in the Kaggle competition. You can download all of them [here](http://files.fast.ai/part2/lesson14/rossmann.tgz). Then you shold untar them in the dirctory to which `PATH` is pointing below.\n",
        "\n",
        "For completeness, the implementation used to put them together is included below."
      ]
    },
    {
      "cell_type": "code",
      "metadata": {
        "id": "V4-lAagziD7W",
        "colab_type": "code",
        "outputId": "bd7387ee-3ca0-4a6f-d5a0-e2eeba48195b",
        "colab": {
          "base_uri": "https://localhost:8080/",
          "height": 34
        }
      },
      "source": [
        "PATH=Path('/content/gdrive/My Drive/DATA/rossmann')\n",
        "table_names = ['train', 'store', 'store_states', 'state_names', 'googletrend', 'weather', 'test']\n",
        "tables = [pd.read_csv(PATH/f'{fname}.csv', low_memory=False) for fname in table_names]\n",
        "train, store, store_states, state_names, googletrend, weather, test = tables\n",
        "len(train),len(test)"
      ],
      "execution_count": 40,
      "outputs": [
        {
          "output_type": "execute_result",
          "data": {
            "text/plain": [
              "(1017209, 41088)"
            ]
          },
          "metadata": {
            "tags": []
          },
          "execution_count": 40
        }
      ]
    },
    {
      "cell_type": "markdown",
      "metadata": {
        "id": "Uh-dHw1XiD7c",
        "colab_type": "text"
      },
      "source": [
        "We turn state Holidays to booleans, to make them more convenient for modeling. We can do calculations on pandas fields using notation very similar (often identical) to numpy."
      ]
    },
    {
      "cell_type": "code",
      "metadata": {
        "id": "NIW8aR1LiD7d",
        "colab_type": "code",
        "colab": {}
      },
      "source": [
        "train.StateHoliday = train.StateHoliday!='0'\n",
        "test.StateHoliday = test.StateHoliday!='0'"
      ],
      "execution_count": 0,
      "outputs": []
    },
    {
      "cell_type": "markdown",
      "metadata": {
        "id": "kHnvl43LiD7g",
        "colab_type": "text"
      },
      "source": [
        "`join_df` is a function for joining tables on specific fields. By default, we'll be doing a left outer join of `right` on the `left` argument using the given fields for each table.\n",
        "\n",
        "Pandas does joins using the `merge` method. The `suffixes` argument describes the naming convention for duplicate fields. We've elected to leave the duplicate field names on the left untouched, and append a \"\\_y\" to those on the right."
      ]
    },
    {
      "cell_type": "code",
      "metadata": {
        "id": "McCr3izaiD7h",
        "colab_type": "code",
        "colab": {}
      },
      "source": [
        "def join_df(left, right, left_on, right_on=None, suffix='_y'):\n",
        "    if right_on is None: right_on = left_on\n",
        "    return left.merge(right, how='left', left_on=left_on, right_on=right_on, \n",
        "                      suffixes=(\"\", suffix))"
      ],
      "execution_count": 0,
      "outputs": []
    },
    {
      "cell_type": "markdown",
      "metadata": {
        "id": "6uERlrxViD7k",
        "colab_type": "text"
      },
      "source": [
        "Join weather/state names."
      ]
    },
    {
      "cell_type": "code",
      "metadata": {
        "id": "cPxEuPsyiD7l",
        "colab_type": "code",
        "colab": {}
      },
      "source": [
        "weather = join_df(weather, state_names, \"file\", \"StateName\")"
      ],
      "execution_count": 0,
      "outputs": []
    },
    {
      "cell_type": "markdown",
      "metadata": {
        "id": "HCHG6Fj2iD7p",
        "colab_type": "text"
      },
      "source": [
        "In pandas you can add new columns to a dataframe by simply defining it. We'll do this for googletrends by extracting dates and state names from the given data and adding those columns.\n",
        "\n",
        "We're also going to replace all instances of state name 'NI' to match the usage in the rest of the data: 'HB,NI'. This is a good opportunity to highlight pandas indexing. We can use `.loc[rows, cols]` to select a list of rows and a list of columns from the dataframe. In this case, we're selecting rows w/ statename 'NI' by using a boolean list `googletrend.State=='NI'` and selecting \"State\"."
      ]
    },
    {
      "cell_type": "code",
      "metadata": {
        "id": "ahhWMtSgiD7q",
        "colab_type": "code",
        "colab": {}
      },
      "source": [
        "googletrend['Date'] = googletrend.week.str.split(' - ', expand=True)[0]\n",
        "googletrend['State'] = googletrend.file.str.split('_', expand=True)[2]\n",
        "googletrend.loc[googletrend.State=='NI', \"State\"] = 'HB,NI'"
      ],
      "execution_count": 0,
      "outputs": []
    },
    {
      "cell_type": "markdown",
      "metadata": {
        "id": "LEj3mnUtiD7t",
        "colab_type": "text"
      },
      "source": [
        "The following extracts particular date fields from a complete datetime for the purpose of constructing categoricals.\n",
        "\n",
        "You should *always* consider this feature extraction step when working with date-time. Without expanding your date-time into these additional fields, you can't capture any trend/cyclical behavior as a function of time at any of these granularities. We'll add to every table with a date field."
      ]
    },
    {
      "cell_type": "code",
      "metadata": {
        "id": "J3-plU70iD7v",
        "colab_type": "code",
        "colab": {}
      },
      "source": [
        "def add_datepart(df, fldname, drop=True, time=False):\n",
        "    \"Helper function that adds columns relevant to a date.\"\n",
        "    fld = df[fldname]\n",
        "    fld_dtype = fld.dtype\n",
        "    if isinstance(fld_dtype, pd.core.dtypes.dtypes.DatetimeTZDtype):\n",
        "        fld_dtype = np.datetime64\n",
        "\n",
        "    if not np.issubdtype(fld_dtype, np.datetime64):\n",
        "        df[fldname] = fld = pd.to_datetime(fld, infer_datetime_format=True)\n",
        "    targ_pre = re.sub('[Dd]ate$', '', fldname)\n",
        "    attr = ['Year', 'Month', 'Week', 'Day', 'Dayofweek', 'Dayofyear',\n",
        "            'Is_month_end', 'Is_month_start', 'Is_quarter_end', 'Is_quarter_start', 'Is_year_end', 'Is_year_start']\n",
        "    if time: attr = attr + ['Hour', 'Minute', 'Second']\n",
        "    for n in attr: df[targ_pre + n] = getattr(fld.dt, n.lower())\n",
        "    df[targ_pre + 'Elapsed'] = fld.astype(np.int64) // 10 ** 9\n",
        "    if drop: df.drop(fldname, axis=1, inplace=True)"
      ],
      "execution_count": 0,
      "outputs": []
    },
    {
      "cell_type": "code",
      "metadata": {
        "id": "vZw-l3iBiD7x",
        "colab_type": "code",
        "colab": {}
      },
      "source": [
        "add_datepart(weather, \"Date\", drop=False)\n",
        "add_datepart(googletrend, \"Date\", drop=False)\n",
        "add_datepart(train, \"Date\", drop=False)\n",
        "add_datepart(test, \"Date\", drop=False)"
      ],
      "execution_count": 0,
      "outputs": []
    },
    {
      "cell_type": "markdown",
      "metadata": {
        "id": "Xc0rzU6EiD70",
        "colab_type": "text"
      },
      "source": [
        "The Google trends data has a special category for the whole of the Germany - we'll pull that out so we can use it explicitly."
      ]
    },
    {
      "cell_type": "code",
      "metadata": {
        "id": "fc3Oj68PiD70",
        "colab_type": "code",
        "colab": {}
      },
      "source": [
        "trend_de = googletrend[googletrend.file == 'Rossmann_DE']"
      ],
      "execution_count": 0,
      "outputs": []
    },
    {
      "cell_type": "markdown",
      "metadata": {
        "id": "RQ36VU3riD73",
        "colab_type": "text"
      },
      "source": [
        "Now we can outer join all of our data into a single dataframe. Recall that in outer joins everytime a value in the joining field on the left table does not have a corresponding value on the right table, the corresponding row in the new table has Null values for all right table fields. One way to check that all records are consistent and complete is to check for Null values post-join, as we do here.\n",
        "\n",
        "*Aside*: Why not just do an inner join?\n",
        "If you are assuming that all records are complete and match on the field you desire, an inner join will do the same thing as an outer join. However, in the event you are wrong or a mistake is made, an outer join followed by a null-check will catch it. (Comparing before/after # of rows for inner join is equivalent, but requires keeping track of before/after row #'s. Outer join is easier.)"
      ]
    },
    {
      "cell_type": "code",
      "metadata": {
        "id": "GO36NyKoiD73",
        "colab_type": "code",
        "outputId": "7c9c5c16-63aa-4eb8-da0d-4ad5a04ef134",
        "colab": {
          "base_uri": "https://localhost:8080/",
          "height": 34
        }
      },
      "source": [
        "store = join_df(store, store_states, \"Store\")\n",
        "len(store[store.State.isnull()])"
      ],
      "execution_count": 48,
      "outputs": [
        {
          "output_type": "execute_result",
          "data": {
            "text/plain": [
              "0"
            ]
          },
          "metadata": {
            "tags": []
          },
          "execution_count": 48
        }
      ]
    },
    {
      "cell_type": "code",
      "metadata": {
        "id": "6ku4YqjBiD77",
        "colab_type": "code",
        "outputId": "cf92d17f-99f3-496e-ecb2-365b8494a083",
        "colab": {
          "base_uri": "https://localhost:8080/",
          "height": 34
        }
      },
      "source": [
        "joined = join_df(train, store, \"Store\")\n",
        "joined_test = join_df(test, store, \"Store\")\n",
        "len(joined[joined.StoreType.isnull()]),len(joined_test[joined_test.StoreType.isnull()])"
      ],
      "execution_count": 49,
      "outputs": [
        {
          "output_type": "execute_result",
          "data": {
            "text/plain": [
              "(0, 0)"
            ]
          },
          "metadata": {
            "tags": []
          },
          "execution_count": 49
        }
      ]
    },
    {
      "cell_type": "code",
      "metadata": {
        "id": "f6hwWuS2iD7-",
        "colab_type": "code",
        "outputId": "1a2ff634-0b73-4d13-9bda-86f9e1594f39",
        "colab": {
          "base_uri": "https://localhost:8080/",
          "height": 34
        }
      },
      "source": [
        "joined = join_df(joined, googletrend, [\"State\",\"Year\", \"Week\"])\n",
        "joined_test = join_df(joined_test, googletrend, [\"State\",\"Year\", \"Week\"])\n",
        "len(joined[joined.trend.isnull()]),len(joined_test[joined_test.trend.isnull()])"
      ],
      "execution_count": 50,
      "outputs": [
        {
          "output_type": "execute_result",
          "data": {
            "text/plain": [
              "(0, 0)"
            ]
          },
          "metadata": {
            "tags": []
          },
          "execution_count": 50
        }
      ]
    },
    {
      "cell_type": "code",
      "metadata": {
        "id": "CvhRl6u1iD8B",
        "colab_type": "code",
        "outputId": "c9b2f9ee-8bb7-488e-da8e-698ee03805c5",
        "colab": {
          "base_uri": "https://localhost:8080/",
          "height": 34
        }
      },
      "source": [
        "joined = joined.merge(trend_de, 'left', [\"Year\", \"Week\"], suffixes=('', '_DE'))\n",
        "joined_test = joined_test.merge(trend_de, 'left', [\"Year\", \"Week\"], suffixes=('', '_DE'))\n",
        "len(joined[joined.trend_DE.isnull()]),len(joined_test[joined_test.trend_DE.isnull()])"
      ],
      "execution_count": 51,
      "outputs": [
        {
          "output_type": "execute_result",
          "data": {
            "text/plain": [
              "(0, 0)"
            ]
          },
          "metadata": {
            "tags": []
          },
          "execution_count": 51
        }
      ]
    },
    {
      "cell_type": "code",
      "metadata": {
        "id": "wXO79N6ciD8D",
        "colab_type": "code",
        "outputId": "93252ccd-7ef2-4939-b380-bd71c715ff25",
        "colab": {
          "base_uri": "https://localhost:8080/",
          "height": 34
        }
      },
      "source": [
        "joined = join_df(joined, weather, [\"State\",\"Date\"])\n",
        "joined_test = join_df(joined_test, weather, [\"State\",\"Date\"])\n",
        "len(joined[joined.Mean_TemperatureC.isnull()]),len(joined_test[joined_test.Mean_TemperatureC.isnull()])"
      ],
      "execution_count": 52,
      "outputs": [
        {
          "output_type": "execute_result",
          "data": {
            "text/plain": [
              "(0, 0)"
            ]
          },
          "metadata": {
            "tags": []
          },
          "execution_count": 52
        }
      ]
    },
    {
      "cell_type": "code",
      "metadata": {
        "id": "lGdwO2xliD8G",
        "colab_type": "code",
        "colab": {}
      },
      "source": [
        "for df in (joined, joined_test):\n",
        "    for c in df.columns:\n",
        "        if c.endswith('_y'):\n",
        "            if c in df.columns: df.drop(c, inplace=True, axis=1)"
      ],
      "execution_count": 0,
      "outputs": []
    },
    {
      "cell_type": "markdown",
      "metadata": {
        "id": "fcATyYDTiD8J",
        "colab_type": "text"
      },
      "source": [
        "Next we'll fill in missing values to avoid complications with `NA`'s. `NA` (not available) is how Pandas indicates missing values; many models have problems when missing values are present, so it's always important to think about how to deal with them. In these cases, we are picking an arbitrary *signal value* that doesn't otherwise appear in the data."
      ]
    },
    {
      "cell_type": "code",
      "metadata": {
        "id": "JaoDW5o5iD8K",
        "colab_type": "code",
        "colab": {}
      },
      "source": [
        "for df in (joined,joined_test):\n",
        "    df['CompetitionOpenSinceYear'] = df.CompetitionOpenSinceYear.fillna(1900).astype(np.int32)\n",
        "    df['CompetitionOpenSinceMonth'] = df.CompetitionOpenSinceMonth.fillna(1).astype(np.int32)\n",
        "    df['Promo2SinceYear'] = df.Promo2SinceYear.fillna(1900).astype(np.int32)\n",
        "    df['Promo2SinceWeek'] = df.Promo2SinceWeek.fillna(1).astype(np.int32)"
      ],
      "execution_count": 0,
      "outputs": []
    },
    {
      "cell_type": "markdown",
      "metadata": {
        "id": "nXGQtrCdiD8Q",
        "colab_type": "text"
      },
      "source": [
        "Next we'll extract features \"CompetitionOpenSince\" and \"CompetitionDaysOpen\". Note the use of `apply()` in mapping a function across dataframe values."
      ]
    },
    {
      "cell_type": "code",
      "metadata": {
        "id": "pCfZ1ZlAiD8R",
        "colab_type": "code",
        "colab": {}
      },
      "source": [
        "for df in (joined,joined_test):\n",
        "    df[\"CompetitionOpenSince\"] = pd.to_datetime(dict(year=df.CompetitionOpenSinceYear, \n",
        "                                                     month=df.CompetitionOpenSinceMonth, day=15))\n",
        "    df[\"CompetitionDaysOpen\"] = df.Date.subtract(df.CompetitionOpenSince).dt.days"
      ],
      "execution_count": 0,
      "outputs": []
    },
    {
      "cell_type": "markdown",
      "metadata": {
        "id": "qIQnf63ciD8X",
        "colab_type": "text"
      },
      "source": [
        "We'll replace some erroneous / outlying data."
      ]
    },
    {
      "cell_type": "code",
      "metadata": {
        "id": "kA14Ha7RiD8Y",
        "colab_type": "code",
        "colab": {}
      },
      "source": [
        "for df in (joined,joined_test):\n",
        "    df.loc[df.CompetitionDaysOpen<0, \"CompetitionDaysOpen\"] = 0\n",
        "    df.loc[df.CompetitionOpenSinceYear<1990, \"CompetitionDaysOpen\"] = 0"
      ],
      "execution_count": 0,
      "outputs": []
    },
    {
      "cell_type": "markdown",
      "metadata": {
        "id": "ICZ3_nLziD8a",
        "colab_type": "text"
      },
      "source": [
        "We add \"CompetitionMonthsOpen\" field, limiting the maximum to 2 years to limit number of unique categories."
      ]
    },
    {
      "cell_type": "code",
      "metadata": {
        "id": "e3TGxetWiD8b",
        "colab_type": "code",
        "outputId": "196f64c1-0cbc-470d-df81-013d7eccd7b2",
        "colab": {
          "base_uri": "https://localhost:8080/",
          "height": 34
        }
      },
      "source": [
        "for df in (joined,joined_test):\n",
        "    df[\"CompetitionMonthsOpen\"] = df[\"CompetitionDaysOpen\"]//30\n",
        "    df.loc[df.CompetitionMonthsOpen>24, \"CompetitionMonthsOpen\"] = 24\n",
        "joined.CompetitionMonthsOpen.unique()"
      ],
      "execution_count": 57,
      "outputs": [
        {
          "output_type": "execute_result",
          "data": {
            "text/plain": [
              "array([24,  3, 19,  9,  0, 16, 17,  7, 15, 22, 11, 13,  2, 23, 12,  4, 10,  1, 14, 20,  8, 18,  6, 21,  5])"
            ]
          },
          "metadata": {
            "tags": []
          },
          "execution_count": 57
        }
      ]
    },
    {
      "cell_type": "markdown",
      "metadata": {
        "id": "w-D8XzfiiD8e",
        "colab_type": "text"
      },
      "source": [
        "Same process for Promo dates. You may need to install the `isoweek` package first."
      ]
    },
    {
      "cell_type": "code",
      "metadata": {
        "id": "FicydPxriD8f",
        "colab_type": "code",
        "colab": {
          "base_uri": "https://localhost:8080/",
          "height": 87
        },
        "outputId": "62dda92c-e5a7-4d18-a4b1-6f580aae529f"
      },
      "source": [
        "# If needed, uncomment:\n",
        " ! pip install isoweek"
      ],
      "execution_count": 59,
      "outputs": [
        {
          "output_type": "stream",
          "text": [
            "Collecting isoweek\n",
            "  Downloading https://files.pythonhosted.org/packages/c2/d4/fe7e2637975c476734fcbf53776e650a29680194eb0dd21dbdc020ca92de/isoweek-1.3.3-py2.py3-none-any.whl\n",
            "Installing collected packages: isoweek\n",
            "Successfully installed isoweek-1.3.3\n"
          ],
          "name": "stdout"
        }
      ]
    },
    {
      "cell_type": "code",
      "metadata": {
        "id": "yAt2zyOqiD8h",
        "colab_type": "code",
        "colab": {}
      },
      "source": [
        "from isoweek import Week\n",
        "for df in (joined,joined_test):\n",
        "    df[\"Promo2Since\"] = pd.to_datetime(df.apply(lambda x: Week(\n",
        "        x.Promo2SinceYear, x.Promo2SinceWeek).monday(), axis=1))\n",
        "    df[\"Promo2Days\"] = df.Date.subtract(df[\"Promo2Since\"]).dt.days"
      ],
      "execution_count": 0,
      "outputs": []
    },
    {
      "cell_type": "code",
      "metadata": {
        "id": "bZIDmfYciD8j",
        "colab_type": "code",
        "colab": {}
      },
      "source": [
        "for df in (joined,joined_test):\n",
        "    df.loc[df.Promo2Days<0, \"Promo2Days\"] = 0\n",
        "    df.loc[df.Promo2SinceYear<1990, \"Promo2Days\"] = 0\n",
        "    df[\"Promo2Weeks\"] = df[\"Promo2Days\"]//7\n",
        "    df.loc[df.Promo2Weeks<0, \"Promo2Weeks\"] = 0\n",
        "    df.loc[df.Promo2Weeks>25, \"Promo2Weeks\"] = 25\n",
        "    df.Promo2Weeks.unique()"
      ],
      "execution_count": 0,
      "outputs": []
    },
    {
      "cell_type": "code",
      "metadata": {
        "id": "4LDDtLn5iD8l",
        "colab_type": "code",
        "colab": {}
      },
      "source": [
        "joined.to_pickle(PATH/'joined')\n",
        "joined_test.to_pickle(PATH/'joined_test')"
      ],
      "execution_count": 0,
      "outputs": []
    },
    {
      "cell_type": "markdown",
      "metadata": {
        "id": "TztRDF3diD8o",
        "colab_type": "text"
      },
      "source": [
        "## Durations"
      ]
    },
    {
      "cell_type": "markdown",
      "metadata": {
        "id": "jin9vvHsiD8o",
        "colab_type": "text"
      },
      "source": [
        "It is common when working with time series data to extract data that explains relationships across rows as opposed to columns, e.g.:\n",
        "* Running averages\n",
        "* Time until next event\n",
        "* Time since last event\n",
        "\n",
        "This is often difficult to do with most table manipulation frameworks, since they are designed to work with relationships across columns. As such, we've created a class to handle this type of data.\n",
        "\n",
        "We'll define a function `get_elapsed` for cumulative counting across a sorted dataframe. Given a particular field `fld` to monitor, this function will start tracking time since the last occurrence of that field. When the field is seen again, the counter is set to zero.\n",
        "\n",
        "Upon initialization, this will result in datetime na's until the field is encountered. This is reset every time a new store is seen. We'll see how to use this shortly."
      ]
    },
    {
      "cell_type": "code",
      "metadata": {
        "id": "7nhpr_SJiD8p",
        "colab_type": "code",
        "colab": {}
      },
      "source": [
        "def get_elapsed(fld, pre):\n",
        "    day1 = np.timedelta64(1, 'D')\n",
        "    last_date = np.datetime64()\n",
        "    last_store = 0\n",
        "    res = []\n",
        "\n",
        "    for s,v,d in zip(df.Store.values,df[fld].values, df.Date.values):\n",
        "        if s != last_store:\n",
        "            last_date = np.datetime64()\n",
        "            last_store = s\n",
        "        if v: last_date = d\n",
        "        res.append(((d-last_date).astype('timedelta64[D]') / day1))\n",
        "    df[pre+fld] = res"
      ],
      "execution_count": 0,
      "outputs": []
    },
    {
      "cell_type": "markdown",
      "metadata": {
        "id": "6P5WC2LWiD8s",
        "colab_type": "text"
      },
      "source": [
        "We'll be applying this to a subset of columns:"
      ]
    },
    {
      "cell_type": "code",
      "metadata": {
        "id": "WdQtphIHiD8u",
        "colab_type": "code",
        "colab": {}
      },
      "source": [
        "columns = [\"Date\", \"Store\", \"Promo\", \"StateHoliday\", \"SchoolHoliday\"]"
      ],
      "execution_count": 0,
      "outputs": []
    },
    {
      "cell_type": "code",
      "metadata": {
        "id": "gPhmrAeEiD80",
        "colab_type": "code",
        "colab": {}
      },
      "source": [
        "#df = train[columns]\n",
        "df = train[columns].append(test[columns])"
      ],
      "execution_count": 0,
      "outputs": []
    },
    {
      "cell_type": "markdown",
      "metadata": {
        "id": "JENhT8TmiD84",
        "colab_type": "text"
      },
      "source": [
        "Let's walk through an example.\n",
        "\n",
        "Say we're looking at School Holiday. We'll first sort by Store, then Date, and then call `add_elapsed('SchoolHoliday', 'After')`:\n",
        "This will apply to each row with School Holiday:\n",
        "* A applied to every row of the dataframe in order of store and date\n",
        "* Will add to the dataframe the days since seeing a School Holiday\n",
        "* If we sort in the other direction, this will count the days until another holiday."
      ]
    },
    {
      "cell_type": "code",
      "metadata": {
        "id": "IdrbuJPwiD85",
        "colab_type": "code",
        "colab": {}
      },
      "source": [
        "fld = 'SchoolHoliday'\n",
        "df = df.sort_values(['Store', 'Date'])\n",
        "get_elapsed(fld, 'After')\n",
        "df = df.sort_values(['Store', 'Date'], ascending=[True, False])\n",
        "get_elapsed(fld, 'Before')"
      ],
      "execution_count": 0,
      "outputs": []
    },
    {
      "cell_type": "markdown",
      "metadata": {
        "id": "UUX2alM8iD8_",
        "colab_type": "text"
      },
      "source": [
        "We'll do this for two more fields."
      ]
    },
    {
      "cell_type": "code",
      "metadata": {
        "id": "9gaBK0IwiD9A",
        "colab_type": "code",
        "colab": {}
      },
      "source": [
        "fld = 'StateHoliday'\n",
        "df = df.sort_values(['Store', 'Date'])\n",
        "get_elapsed(fld, 'After')\n",
        "df = df.sort_values(['Store', 'Date'], ascending=[True, False])\n",
        "get_elapsed(fld, 'Before')"
      ],
      "execution_count": 0,
      "outputs": []
    },
    {
      "cell_type": "code",
      "metadata": {
        "id": "fziCdqnHiD9D",
        "colab_type": "code",
        "colab": {}
      },
      "source": [
        "fld = 'Promo'\n",
        "df = df.sort_values(['Store', 'Date'])\n",
        "get_elapsed(fld, 'After')\n",
        "df = df.sort_values(['Store', 'Date'], ascending=[True, False])\n",
        "get_elapsed(fld, 'Before')"
      ],
      "execution_count": 0,
      "outputs": []
    },
    {
      "cell_type": "markdown",
      "metadata": {
        "id": "wrUlz_EKiD9F",
        "colab_type": "text"
      },
      "source": [
        "We're going to set the active index to Date."
      ]
    },
    {
      "cell_type": "code",
      "metadata": {
        "id": "hPaTPdUJiD9G",
        "colab_type": "code",
        "colab": {}
      },
      "source": [
        "df = df.set_index(\"Date\")"
      ],
      "execution_count": 0,
      "outputs": []
    },
    {
      "cell_type": "markdown",
      "metadata": {
        "id": "QAS12LmbiD9I",
        "colab_type": "text"
      },
      "source": [
        "Then set null values from elapsed field calculations to 0."
      ]
    },
    {
      "cell_type": "code",
      "metadata": {
        "id": "Vc2XOb2riD9J",
        "colab_type": "code",
        "colab": {}
      },
      "source": [
        "columns = ['SchoolHoliday', 'StateHoliday', 'Promo']"
      ],
      "execution_count": 0,
      "outputs": []
    },
    {
      "cell_type": "code",
      "metadata": {
        "id": "jPa8X324iD9L",
        "colab_type": "code",
        "colab": {}
      },
      "source": [
        "for o in ['Before', 'After']:\n",
        "    for p in columns:\n",
        "        a = o+p\n",
        "        df[a] = df[a].fillna(0).astype(int)"
      ],
      "execution_count": 0,
      "outputs": []
    },
    {
      "cell_type": "markdown",
      "metadata": {
        "id": "fJyYbimMiD9N",
        "colab_type": "text"
      },
      "source": [
        "Next we'll demonstrate window functions in pandas to calculate rolling quantities.\n",
        "\n",
        "Here we're sorting by date (`sort_index()`) and counting the number of events of interest (`sum()`) defined in `columns` in the following week (`rolling()`), grouped by Store (`groupby()`). We do the same in the opposite direction."
      ]
    },
    {
      "cell_type": "code",
      "metadata": {
        "id": "yLf2HTFPiD9O",
        "colab_type": "code",
        "colab": {}
      },
      "source": [
        "bwd = df[['Store']+columns].sort_index().groupby(\"Store\").rolling(7, min_periods=1).sum()"
      ],
      "execution_count": 0,
      "outputs": []
    },
    {
      "cell_type": "code",
      "metadata": {
        "id": "FO0FOb98iD9Q",
        "colab_type": "code",
        "colab": {}
      },
      "source": [
        "fwd = df[['Store']+columns].sort_index(ascending=False\n",
        "                                      ).groupby(\"Store\").rolling(7, min_periods=1).sum()"
      ],
      "execution_count": 0,
      "outputs": []
    },
    {
      "cell_type": "markdown",
      "metadata": {
        "id": "sJKEGHUjiD9U",
        "colab_type": "text"
      },
      "source": [
        "Next we want to drop the Store indices grouped together in the window function.\n",
        "\n",
        "Often in pandas, there is an option to do this in place. This is time and memory efficient when working with large datasets."
      ]
    },
    {
      "cell_type": "code",
      "metadata": {
        "id": "MTFxOtsSiD9V",
        "colab_type": "code",
        "colab": {}
      },
      "source": [
        "bwd.drop('Store',1,inplace=True)\n",
        "bwd.reset_index(inplace=True)"
      ],
      "execution_count": 0,
      "outputs": []
    },
    {
      "cell_type": "code",
      "metadata": {
        "id": "Xa4mjMlpiD9b",
        "colab_type": "code",
        "colab": {}
      },
      "source": [
        "fwd.drop('Store',1,inplace=True)\n",
        "fwd.reset_index(inplace=True)"
      ],
      "execution_count": 0,
      "outputs": []
    },
    {
      "cell_type": "code",
      "metadata": {
        "id": "P6LuhwvliD9l",
        "colab_type": "code",
        "colab": {}
      },
      "source": [
        "df.reset_index(inplace=True)"
      ],
      "execution_count": 0,
      "outputs": []
    },
    {
      "cell_type": "markdown",
      "metadata": {
        "id": "4iGrvOt7iD9o",
        "colab_type": "text"
      },
      "source": [
        "Now we'll merge these values onto the df."
      ]
    },
    {
      "cell_type": "code",
      "metadata": {
        "id": "PJaFEeYIiD9p",
        "colab_type": "code",
        "colab": {}
      },
      "source": [
        "df = df.merge(bwd, 'left', ['Date', 'Store'], suffixes=['', '_bw'])\n",
        "df = df.merge(fwd, 'left', ['Date', 'Store'], suffixes=['', '_fw'])"
      ],
      "execution_count": 0,
      "outputs": []
    },
    {
      "cell_type": "code",
      "metadata": {
        "id": "p7HX1q8oiD9r",
        "colab_type": "code",
        "colab": {}
      },
      "source": [
        "df.drop(columns,1,inplace=True)"
      ],
      "execution_count": 0,
      "outputs": []
    },
    {
      "cell_type": "code",
      "metadata": {
        "id": "Uo3wq9DtiD9u",
        "colab_type": "code",
        "outputId": "2e9c399d-1b0f-42f3-afee-a2bb67f80fa2",
        "colab": {
          "base_uri": "https://localhost:8080/",
          "height": 299
        }
      },
      "source": [
        "df.head()"
      ],
      "execution_count": 80,
      "outputs": [
        {
          "output_type": "execute_result",
          "data": {
            "text/html": [
              "<div>\n",
              "<style scoped>\n",
              "    .dataframe tbody tr th:only-of-type {\n",
              "        vertical-align: middle;\n",
              "    }\n",
              "\n",
              "    .dataframe tbody tr th {\n",
              "        vertical-align: top;\n",
              "    }\n",
              "\n",
              "    .dataframe thead th {\n",
              "        text-align: right;\n",
              "    }\n",
              "</style>\n",
              "<table border=\"1\" class=\"dataframe\">\n",
              "  <thead>\n",
              "    <tr style=\"text-align: right;\">\n",
              "      <th></th>\n",
              "      <th>Date</th>\n",
              "      <th>Store</th>\n",
              "      <th>AfterSchoolHoliday</th>\n",
              "      <th>BeforeSchoolHoliday</th>\n",
              "      <th>AfterPromo</th>\n",
              "      <th>BeforePromo</th>\n",
              "      <th>AfterStateHoliday</th>\n",
              "      <th>BeforeStateHoliday</th>\n",
              "      <th>SchoolHoliday_bw</th>\n",
              "      <th>StateHoliday_bw</th>\n",
              "      <th>Promo_bw</th>\n",
              "      <th>SchoolHoliday_fw</th>\n",
              "      <th>StateHoliday_fw</th>\n",
              "      <th>Promo_fw</th>\n",
              "    </tr>\n",
              "  </thead>\n",
              "  <tbody>\n",
              "    <tr>\n",
              "      <th>0</th>\n",
              "      <td>2015-09-17</td>\n",
              "      <td>1</td>\n",
              "      <td>13</td>\n",
              "      <td>0</td>\n",
              "      <td>0</td>\n",
              "      <td>0</td>\n",
              "      <td>105</td>\n",
              "      <td>0</td>\n",
              "      <td>0.0</td>\n",
              "      <td>0.0</td>\n",
              "      <td>4.0</td>\n",
              "      <td>0.0</td>\n",
              "      <td>0.0</td>\n",
              "      <td>1.0</td>\n",
              "    </tr>\n",
              "    <tr>\n",
              "      <th>1</th>\n",
              "      <td>2015-09-16</td>\n",
              "      <td>1</td>\n",
              "      <td>12</td>\n",
              "      <td>0</td>\n",
              "      <td>0</td>\n",
              "      <td>0</td>\n",
              "      <td>104</td>\n",
              "      <td>0</td>\n",
              "      <td>0.0</td>\n",
              "      <td>0.0</td>\n",
              "      <td>3.0</td>\n",
              "      <td>0.0</td>\n",
              "      <td>0.0</td>\n",
              "      <td>2.0</td>\n",
              "    </tr>\n",
              "    <tr>\n",
              "      <th>2</th>\n",
              "      <td>2015-09-15</td>\n",
              "      <td>1</td>\n",
              "      <td>11</td>\n",
              "      <td>0</td>\n",
              "      <td>0</td>\n",
              "      <td>0</td>\n",
              "      <td>103</td>\n",
              "      <td>0</td>\n",
              "      <td>0.0</td>\n",
              "      <td>0.0</td>\n",
              "      <td>2.0</td>\n",
              "      <td>0.0</td>\n",
              "      <td>0.0</td>\n",
              "      <td>3.0</td>\n",
              "    </tr>\n",
              "    <tr>\n",
              "      <th>3</th>\n",
              "      <td>2015-09-14</td>\n",
              "      <td>1</td>\n",
              "      <td>10</td>\n",
              "      <td>0</td>\n",
              "      <td>0</td>\n",
              "      <td>0</td>\n",
              "      <td>102</td>\n",
              "      <td>0</td>\n",
              "      <td>0.0</td>\n",
              "      <td>0.0</td>\n",
              "      <td>1.0</td>\n",
              "      <td>0.0</td>\n",
              "      <td>0.0</td>\n",
              "      <td>4.0</td>\n",
              "    </tr>\n",
              "    <tr>\n",
              "      <th>4</th>\n",
              "      <td>2015-09-13</td>\n",
              "      <td>1</td>\n",
              "      <td>9</td>\n",
              "      <td>0</td>\n",
              "      <td>9</td>\n",
              "      <td>-1</td>\n",
              "      <td>101</td>\n",
              "      <td>0</td>\n",
              "      <td>0.0</td>\n",
              "      <td>0.0</td>\n",
              "      <td>0.0</td>\n",
              "      <td>0.0</td>\n",
              "      <td>0.0</td>\n",
              "      <td>4.0</td>\n",
              "    </tr>\n",
              "  </tbody>\n",
              "</table>\n",
              "</div>"
            ],
            "text/plain": [
              "        Date  Store  ...  StateHoliday_fw  Promo_fw\n",
              "0 2015-09-17      1  ...              0.0       1.0\n",
              "1 2015-09-16      1  ...              0.0       2.0\n",
              "2 2015-09-15      1  ...              0.0       3.0\n",
              "3 2015-09-14      1  ...              0.0       4.0\n",
              "4 2015-09-13      1  ...              0.0       4.0\n",
              "\n",
              "[5 rows x 14 columns]"
            ]
          },
          "metadata": {
            "tags": []
          },
          "execution_count": 80
        }
      ]
    },
    {
      "cell_type": "markdown",
      "metadata": {
        "id": "WhuHdTX-iD91",
        "colab_type": "text"
      },
      "source": [
        "It's usually a good idea to back up large tables of extracted / wrangled features before you join them onto another one, that way you can go back to it easily if you need to make changes to it."
      ]
    },
    {
      "cell_type": "code",
      "metadata": {
        "id": "usc_Py7KiD91",
        "colab_type": "code",
        "colab": {}
      },
      "source": [
        "df.to_pickle(PATH/'df')"
      ],
      "execution_count": 0,
      "outputs": []
    },
    {
      "cell_type": "code",
      "metadata": {
        "id": "z4IcbYtAiD93",
        "colab_type": "code",
        "colab": {}
      },
      "source": [
        "df[\"Date\"] = pd.to_datetime(df.Date)"
      ],
      "execution_count": 0,
      "outputs": []
    },
    {
      "cell_type": "code",
      "metadata": {
        "id": "rWJUOEFdiD95",
        "colab_type": "code",
        "outputId": "a2e6c767-75e2-42b1-c570-2aac0aa50769",
        "colab": {
          "base_uri": "https://localhost:8080/",
          "height": 105
        }
      },
      "source": [
        "df.columns"
      ],
      "execution_count": 83,
      "outputs": [
        {
          "output_type": "execute_result",
          "data": {
            "text/plain": [
              "Index(['Date', 'Store', 'AfterSchoolHoliday', 'BeforeSchoolHoliday',\n",
              "       'AfterPromo', 'BeforePromo', 'AfterStateHoliday', 'BeforeStateHoliday',\n",
              "       'SchoolHoliday_bw', 'StateHoliday_bw', 'Promo_bw', 'SchoolHoliday_fw',\n",
              "       'StateHoliday_fw', 'Promo_fw'],\n",
              "      dtype='object')"
            ]
          },
          "metadata": {
            "tags": []
          },
          "execution_count": 83
        }
      ]
    },
    {
      "cell_type": "code",
      "metadata": {
        "id": "W2Zpi1-aiD97",
        "colab_type": "code",
        "colab": {}
      },
      "source": [
        "joined = pd.read_pickle(PATH/'joined')\n",
        "joined_test = pd.read_pickle(PATH/f'joined_test')"
      ],
      "execution_count": 0,
      "outputs": []
    },
    {
      "cell_type": "code",
      "metadata": {
        "id": "CWogwQzSiD9_",
        "colab_type": "code",
        "colab": {}
      },
      "source": [
        "joined = join_df(joined, df, ['Store', 'Date'])"
      ],
      "execution_count": 0,
      "outputs": []
    },
    {
      "cell_type": "code",
      "metadata": {
        "id": "NOdjVsyeiD-C",
        "colab_type": "code",
        "colab": {}
      },
      "source": [
        "joined_test = join_df(joined_test, df, ['Store', 'Date'])"
      ],
      "execution_count": 0,
      "outputs": []
    },
    {
      "cell_type": "markdown",
      "metadata": {
        "id": "EMqLeLCciD-F",
        "colab_type": "text"
      },
      "source": [
        "The authors also removed all instances where the store had zero sale / was closed. We speculate that this may have cost them a higher standing in the competition. One reason this may be the case is that a little exploratory data analysis reveals that there are often periods where stores are closed, typically for refurbishment. Before and after these periods, there are naturally spikes in sales that one might expect. By ommitting this data from their training, the authors gave up the ability to leverage information about these periods to predict this otherwise volatile behavior."
      ]
    },
    {
      "cell_type": "code",
      "metadata": {
        "id": "Hu0eanmdiD-F",
        "colab_type": "code",
        "colab": {}
      },
      "source": [
        "joined = joined[joined.Sales!=0]"
      ],
      "execution_count": 0,
      "outputs": []
    },
    {
      "cell_type": "markdown",
      "metadata": {
        "id": "0UXtEBqaiD-I",
        "colab_type": "text"
      },
      "source": [
        "We'll back this up as well."
      ]
    },
    {
      "cell_type": "code",
      "metadata": {
        "id": "MmzqT_CViD-J",
        "colab_type": "code",
        "colab": {}
      },
      "source": [
        "joined.reset_index(inplace=True)\n",
        "joined_test.reset_index(inplace=True)"
      ],
      "execution_count": 0,
      "outputs": []
    },
    {
      "cell_type": "code",
      "metadata": {
        "id": "ZMj3aO6yiD-L",
        "colab_type": "code",
        "colab": {}
      },
      "source": [
        "joined.to_pickle(PATH/'train_clean')\n",
        "joined_test.to_pickle(PATH/'test_clean')"
      ],
      "execution_count": 0,
      "outputs": []
    },
    {
      "cell_type": "code",
      "metadata": {
        "id": "nawIS0vtiD-N",
        "colab_type": "code",
        "colab": {}
      },
      "source": [
        ""
      ],
      "execution_count": 0,
      "outputs": []
    }
  ]
}